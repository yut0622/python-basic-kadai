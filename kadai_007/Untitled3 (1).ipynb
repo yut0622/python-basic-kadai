{
  "nbformat": 4,
  "nbformat_minor": 0,
  "metadata": {
    "colab": {
      "provenance": []
    },
    "kernelspec": {
      "name": "python3",
      "display_name": "Python 3"
    },
    "language_info": {
      "name": "python"
    }
  },
  "cells": [
    {
      "cell_type": "code",
      "source": [
        "from os import WEXITED\n",
        "array = [\"月曜日は晴れです\" ,\"火曜日は雨です\" ,\"水曜日は晴れです\" ,\"木曜日は晴れです\" ,\"金曜日は曇りです\" ,\"土曜日は曇りのち雨です\" ,\"日曜日は雷雨です\"]\n",
        "print(array[2])\n",
        "dictionary = {\"mon\":\"晴れ\", \"tue\":\"雨\", \"wed\":\"晴れ\", \"thu\":\"晴れ\", \"fri\":\"曇り\", \"sat\":\"曇りのち雨\", \"sun\":\"雷雨\" }\n",
        "print(dictionary[\"wed\"])"
      ],
      "metadata": {
        "colab": {
          "base_uri": "https://localhost:8080/"
        },
        "id": "xsUrO8dDOEYq",
        "outputId": "0aeb173d-4d3d-4510-f73f-dde065d6870d"
      },
      "execution_count": 12,
      "outputs": [
        {
          "output_type": "stream",
          "name": "stdout",
          "text": [
            "水曜日は晴れです\n",
            "晴れ\n"
          ]
        }
      ]
    },
    {
      "cell_type": "code",
      "source": [],
      "metadata": {
        "id": "WtWx7jzWRnv7"
      },
      "execution_count": null,
      "outputs": []
    }
  ]
}