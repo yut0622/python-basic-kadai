{
  "nbformat": 4,
  "nbformat_minor": 0,
  "metadata": {
    "colab": {
      "provenance": []
    },
    "kernelspec": {
      "name": "python3",
      "display_name": "Python 3"
    },
    "language_info": {
      "name": "python"
    }
  },
  "cells": [
    {
      "cell_type": "code",
      "source": [
        "def calculate_tax_inclusive_price(price, tax_rate_percent):\n",
        "\n",
        "  # 消費税率をパーセントから小数（例: 10 -> 0.10）に変換\n",
        "  tax_rate_decimal = tax_rate_percent / 100\n",
        "\n",
        "  # 消費税額を計算: 商品の金額 * 税率\n",
        "  tax_amount = price * tax_rate_decimal\n",
        "\n",
        "  # 消費税込みの金額を計算: 商品の金額 + 消費税額\n",
        "  inclusive_price = price + tax_amount\n",
        "\n",
        "  return inclusive_price\n",
        "\n",
        "price = 110\n",
        "tax_rate = 10\n",
        "result = calculate_tax_inclusive_price(price, tax_rate)\n",
        "\n",
        "print(f\"商品金額: {price}円\")\n",
        "print(f\"消費税率: {tax_rate}%\")\n",
        "print(f\"消費税込みの金額: {result}円\")"
      ],
      "metadata": {
        "colab": {
          "base_uri": "https://localhost:8080/"
        },
        "id": "ez_J9p_Nm6ZF",
        "outputId": "4e159bf8-3d56-49a7-f8dd-634b99b7911c"
      },
      "execution_count": 2,
      "outputs": [
        {
          "output_type": "stream",
          "name": "stdout",
          "text": [
            "商品金額: 110円\n",
            "消費税率: 10%\n",
            "消費税込みの金額: 121.0円\n"
          ]
        }
      ]
    },
    {
      "cell_type": "code",
      "source": [
        "price1 = 100\n",
        "price2 = 200\n",
        "\n",
        "def total():\n",
        "    tax = 1.1\n",
        "    subtotal = price1 + price2\n",
        "    return subtotal * tax\n",
        "\n",
        "# 関数が返す最終的な結果（消費税込みの金額）を出力\n",
        "print(total())"
      ],
      "metadata": {
        "id": "IhhdHr2Cnbjn"
      },
      "execution_count": null,
      "outputs": []
    }
  ]
}