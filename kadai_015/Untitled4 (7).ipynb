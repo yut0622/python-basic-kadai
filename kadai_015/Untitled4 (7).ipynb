{
  "nbformat": 4,
  "nbformat_minor": 0,
  "metadata": {
    "colab": {
      "provenance": []
    },
    "kernelspec": {
      "name": "python3",
      "display_name": "Python 3"
    },
    "language_info": {
      "name": "python"
    }
  },
  "cells": [
    {
      "cell_type": "code",
      "source": [
        "class Human:\n",
        "\n",
        "\n",
        "    def __init__(self, name, age):\n",
        "\n",
        "        # インスタンス変数に値を代入（属性の設定）\n",
        "        self.name = name\n",
        "        self.age = age\n",
        "\n",
        "    def printinfo(self):\n",
        "\n",
        "        print(f\"名前: {self.name}\")\n",
        "        print(f\"年齢: {self.age}歳\")\n",
        "\n",
        "# 1. Humanクラスのインスタンスを作成し、変数に代入\n",
        "# インスタンス変数 'person1' に代入\n",
        "person1 = Human(\"侍　太郎\", 30)\n",
        "\n",
        "# 2. 定義したクラスに属するメソッド(print_info)を使用\n",
        "print(\"--- person1の情報 ---\")\n",
        "person1.printinfo()\n",
        "\n",
        "print(\"\\n--- 別のインスタンスの例 ---\")\n",
        "person2 = Human(\"侍　花子\", 25)\n",
        "person2.printinfo()"
      ],
      "metadata": {
        "colab": {
          "base_uri": "https://localhost:8080/"
        },
        "id": "RID-9nGzvvC8",
        "outputId": "8a85ed0d-ec0f-4718-8d10-123f26d2993c"
      },
      "execution_count": 15,
      "outputs": [
        {
          "output_type": "stream",
          "name": "stdout",
          "text": [
            "--- person1の情報 ---\n",
            "名前: 侍　太郎\n",
            "年齢: 30歳\n",
            "\n",
            "--- 別のインスタンスの例 ---\n",
            "名前: 侍　花子\n",
            "年齢: 25歳\n"
          ]
        }
      ]
    }
  ]
}