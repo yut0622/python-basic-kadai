{
  "nbformat": 4,
  "nbformat_minor": 0,
  "metadata": {
    "colab": {
      "provenance": []
    },
    "kernelspec": {
      "name": "python3",
      "display_name": "Python 3"
    },
    "language_info": {
      "name": "python"
    }
  },
  "cells": [
    {
      "cell_type": "code",
      "source": [
        "def calculate_tax_inclusive_price(price, tax_rate_percent):\n",
        "\n",
        "  # 消費税率をパーセントから小数（例: 10 -> 0.10）に変換\n",
        "  tax_rate_decimal = tax_rate_percent / 100\n",
        "\n",
        "  # 消費税額を計算: 商品の金額 * 税率\n",
        "  tax_amount = price * tax_rate_decimal\n",
        "\n",
        "  # 消費税込みの金額を計算: 商品の金額 + 消費税額\n",
        "  inclusive_price = price + tax_amount\n",
        "\n",
        "  return inclusive_price\n",
        "\n",
        "price = 110\n",
        "tax_rate = 10\n",
        "result = calculate_tax_inclusive_price(price, tax_rate)\n",
        "\n",
        "print(f\"商品金額: {price}円\")\n",
        "print(f\"消費税率: {tax_rate}%\")\n",
        "print(f\"消費税込みの金額: {result}円\")"
      ],
      "metadata": {
        "colab": {
          "base_uri": "https://localhost:8080/"
        },
        "id": "ez_J9p_Nm6ZF",
        "outputId": "4e159bf8-3d56-49a7-f8dd-634b99b7911c"
      },
      "execution_count": 2,
      "outputs": [
        {
          "output_type": "stream",
          "name": "stdout",
          "text": [
            "商品金額: 110円\n",
            "消費税率: 10%\n",
            "消費税込みの金額: 121.0円\n"
          ]
        }
      ]
    },
    {
      "cell_type": "code",
      "source": [
        "price1 = 100\n",
        "price2 = 200\n",
        "\n",
        "def total():\n",
        "    tax = 1.1\n",
        "    subtotal = price1 + price2\n",
        "    return subtotal * tax\n",
        "\n",
        "# 関数が返す最終的な結果（消費税込みの金額）を出力\n",
        "print(total())"
      ],
      "metadata": {
        "id": "IhhdHr2Cnbjn"
      },
      "execution_count": null,
      "outputs": []
    },
    {
      "cell_type": "code",
      "source": [
        "class Product:\n",
        "    def __init__(self):\n",
        "        self.name = \"\"\n",
        "\n",
        "    # メソッドを定義する\n",
        "    def set_name(self, name):\n",
        "        self.name = name\n",
        "\n",
        "    def show_name(self):\n",
        "        print(self.name)\n",
        "\n",
        "# インスタンス化する\n",
        "coffee = Product()\n",
        "\n",
        "# メソッドにアクセスして実行する\n",
        "coffee.set_name(\"コーヒー\")\n",
        "coffee.show_name()"
      ],
      "metadata": {
        "colab": {
          "base_uri": "https://localhost:8080/"
        },
        "id": "65kpdwH0p3pt",
        "outputId": "a09c0354-92f5-4c1d-d543-7690653b3e57"
      },
      "execution_count": 8,
      "outputs": [
        {
          "output_type": "stream",
          "name": "stdout",
          "text": [
            "コーヒー\n"
          ]
        }
      ]
    },
    {
      "cell_type": "code",
      "source": [
        "class Human:\n",
        "\n",
        "\n",
        "    def __init__(self, name, age):\n",
        "\n",
        "        # インスタンス変数に値を代入（属性の設定）\n",
        "        self.name = name\n",
        "        self.age = age\n",
        "\n",
        "    def print_info(self):\n",
        "\n",
        "        print(f\"名前: {self.name}\")\n",
        "        print(f\"年齢: {self.age}歳\")\n",
        "\n",
        "# 1. Humanクラスのインスタンスを作成し、変数に代入\n",
        "# インスタンス変数 'person1' に代入\n",
        "person1 = Human(\"侍　太郎\", 30)\n",
        "\n",
        "# 2. 定義したクラスに属するメソッド(print_info)を使用\n",
        "print(\"--- person1の情報 ---\")\n",
        "person1.print_info()\n",
        "\n",
        "print(\"\\n--- 別のインスタンスの例 ---\")\n",
        "person2 = Human(\"侍　花子\", 25)\n",
        "person2.print_info()"
      ],
      "metadata": {
        "colab": {
          "base_uri": "https://localhost:8080/"
        },
        "id": "Xd39SbT_r7Qb",
        "outputId": "45eceb93-5761-4886-805a-f23d78c87bb0"
      },
      "execution_count": 11,
      "outputs": [
        {
          "output_type": "stream",
          "name": "stdout",
          "text": [
            "--- person1の情報 ---\n",
            "名前: 侍　太郎\n",
            "年齢: 30歳\n",
            "\n",
            "--- 別のインスタンスの例 ---\n",
            "名前: 侍　花子\n",
            "年齢: 25歳\n"
          ]
        }
      ]
    },
    {
      "cell_type": "code",
      "source": [
        "class Human:\n",
        "\n",
        "    def __init__(self, name, age):\n",
        "\n",
        "        self.name = name\n",
        "        self.age = age\n",
        "\n",
        "    def check_adult(self):\n",
        "\n",
        "        #年齢による出力の変更\n",
        "        print(f\"--- {self.name} ({self.age}歳) の確認 ---\")\n",
        "        if self.age >= 20:\n",
        "            print(f\"{self.name} は大人です。\")\n",
        "        else:\n",
        "            print(f\"{self.name} は大人ではありません。\")\n",
        "        print(\"-\" * (len(self.name) + 16))\n",
        "\n",
        "# 1. Humanクラスのインスタンスを複数生成\n",
        "person1 = Human(\"侍　太郎\", 30)\n",
        "person2 = Human(\"侍 花子\", 15)\n",
        "person3 = Human(\"侍　二郎\", 20)\n",
        "person4 = Human(\"侍　三郎\", 19)\n",
        "\n",
        "# 2. インスタンスをリストに\n",
        "people_list = [person1, person2, person3, person4]\n",
        "\n",
        "# 3. リストの要素数分だけ check_adult メソッドを呼び出す\n",
        "print(\"【成人チェック開始】\")\n",
        "for person in people_list:\n",
        "    person.check_adult()"
      ],
      "metadata": {
        "colab": {
          "base_uri": "https://localhost:8080/"
        },
        "id": "3gUIxEm4tWpF",
        "outputId": "d13d5cab-50e2-4568-a0d5-f1eb159f3a23"
      },
      "execution_count": 13,
      "outputs": [
        {
          "output_type": "stream",
          "name": "stdout",
          "text": [
            "【成人チェック開始】\n",
            "--- 侍　太郎 (30歳) の確認 ---\n",
            "侍　太郎 は大人です。\n",
            "--------------------\n",
            "--- 侍 花子 (15歳) の確認 ---\n",
            "侍 花子 は大人ではありません。\n",
            "--------------------\n",
            "--- 侍　二郎 (20歳) の確認 ---\n",
            "侍　二郎 は大人です。\n",
            "--------------------\n",
            "--- 侍　三郎 (19歳) の確認 ---\n",
            "侍　三郎 は大人ではありません。\n",
            "--------------------\n"
          ]
        }
      ]
    }
  ]
}