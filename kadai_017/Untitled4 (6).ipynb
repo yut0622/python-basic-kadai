{
  "nbformat": 4,
  "nbformat_minor": 0,
  "metadata": {
    "colab": {
      "provenance": []
    },
    "kernelspec": {
      "name": "python3",
      "display_name": "Python 3"
    },
    "language_info": {
      "name": "python"
    }
  },
  "cells": [
    {
      "cell_type": "code",
      "source": [
        "class Human:\n",
        "\n",
        "    def __init__(self, name, age):\n",
        "\n",
        "        self.name = name\n",
        "        self.age = age\n",
        "\n",
        "    def check_adult(self):\n",
        "\n",
        "        #年齢による出力の変更\n",
        "        print(f\"--- {self.name} ({self.age}歳) の確認 ---\")\n",
        "        if self.age >= 20:\n",
        "            print(f\"{self.name} は大人です。\")\n",
        "        else:\n",
        "            print(f\"{self.name} は大人ではありません。\")\n",
        "        print(\"-\" * (len(self.name) + 16))\n",
        "\n",
        "# 1. Humanクラスのインスタンスを複数生成\n",
        "person1 = Human(\"侍　太郎\", 30)\n",
        "person2 = Human(\"侍 花子\", 15)\n",
        "person3 = Human(\"侍　二郎\", 20)\n",
        "person4 = Human(\"侍　三郎\", 19)\n",
        "\n",
        "# 2. インスタンスをリストに\n",
        "people_list = [person1, person2, person3, person4]\n",
        "\n",
        "# 3. リストの要素数分だけ check_adult メソッドを呼び出す\n",
        "print(\"【成人チェック開始】\")\n",
        "for person in people_list:\n",
        "    person.check_adult()"
      ],
      "metadata": {
        "colab": {
          "base_uri": "https://localhost:8080/"
        },
        "id": "3gUIxEm4tWpF",
        "outputId": "d13d5cab-50e2-4568-a0d5-f1eb159f3a23"
      },
      "execution_count": 13,
      "outputs": [
        {
          "output_type": "stream",
          "name": "stdout",
          "text": [
            "【成人チェック開始】\n",
            "--- 侍　太郎 (30歳) の確認 ---\n",
            "侍　太郎 は大人です。\n",
            "--------------------\n",
            "--- 侍 花子 (15歳) の確認 ---\n",
            "侍 花子 は大人ではありません。\n",
            "--------------------\n",
            "--- 侍　二郎 (20歳) の確認 ---\n",
            "侍　二郎 は大人です。\n",
            "--------------------\n",
            "--- 侍　三郎 (19歳) の確認 ---\n",
            "侍　三郎 は大人ではありません。\n",
            "--------------------\n"
          ]
        }
      ]
    }
  ]
}